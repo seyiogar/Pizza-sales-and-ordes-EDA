{
 "cells": [
  {
   "cell_type": "markdown",
   "id": "580bc619-b029-460c-aaa5-692f32aaab17",
   "metadata": {},
   "source": [
    "# Task 3"
   ]
  },
  {
   "cell_type": "code",
   "execution_count": 65,
   "id": "ebbbcd61-627d-442e-b500-c27dd1d087d8",
   "metadata": {},
   "outputs": [],
   "source": [
    "# importing libraries\n",
    "import pandas as pd\n",
    "\n",
    "import matplotlib.pyplot as plt\n",
    "\n",
    "import seaborn as sns\n",
    "\n",
    "sns.set() "
   ]
  },
  {
   "cell_type": "code",
   "execution_count": 4,
   "id": "56af8b3b-ae98-4e62-b45f-da5fc956a34e",
   "metadata": {},
   "outputs": [],
   "source": [
    "# Load datasets\n",
    "orders = pd.read_csv(r\"C:\\Users\\hp\\Documents\\pizza_sales\\orders.csv\", encoding='latin1')\n",
    "order_details = pd.read_csv(r\"C:\\Users\\hp\\Documents\\pizza_sales\\order_details.csv\", encoding='latin1')\n",
    "pizzas = pd.read_csv(r\"C:\\Users\\hp\\Documents\\pizza_sales\\pizzas.csv\", encoding='latin1')\n",
    "pizza_types = pd.read_csv(r\"C:\\Users\\hp\\Documents\\pizza_sales\\pizza_types.csv\", encoding='latin1')"
   ]
  },
  {
   "cell_type": "code",
   "execution_count": 5,
   "id": "4284d32c-c869-41cb-8cce-2f978efdd298",
   "metadata": {},
   "outputs": [],
   "source": [
    "df = (\n",
    "    order_details.merge(orders, on='order_id')\n",
    "                 .merge(pizzas, on='pizza_id')\n",
    "                 .merge(pizza_types, on='pizza_type_id')\n",
    ")"
   ]
  },
  {
   "cell_type": "code",
   "execution_count": 6,
   "id": "0c7eb0c3-7ba2-4c0b-8c30-5fa41b392672",
   "metadata": {},
   "outputs": [
    {
     "data": {
      "text/html": [
       "<div>\n",
       "<style scoped>\n",
       "    .dataframe tbody tr th:only-of-type {\n",
       "        vertical-align: middle;\n",
       "    }\n",
       "\n",
       "    .dataframe tbody tr th {\n",
       "        vertical-align: top;\n",
       "    }\n",
       "\n",
       "    .dataframe thead th {\n",
       "        text-align: right;\n",
       "    }\n",
       "</style>\n",
       "<table border=\"1\" class=\"dataframe\">\n",
       "  <thead>\n",
       "    <tr style=\"text-align: right;\">\n",
       "      <th></th>\n",
       "      <th>order_details_id</th>\n",
       "      <th>order_id</th>\n",
       "      <th>pizza_id</th>\n",
       "      <th>quantity</th>\n",
       "      <th>date</th>\n",
       "      <th>time</th>\n",
       "      <th>pizza_type_id</th>\n",
       "      <th>size</th>\n",
       "      <th>price</th>\n",
       "      <th>name</th>\n",
       "      <th>category</th>\n",
       "      <th>ingredients</th>\n",
       "    </tr>\n",
       "  </thead>\n",
       "  <tbody>\n",
       "    <tr>\n",
       "      <th>0</th>\n",
       "      <td>1</td>\n",
       "      <td>1</td>\n",
       "      <td>hawaiian_m</td>\n",
       "      <td>1</td>\n",
       "      <td>2015-01-01</td>\n",
       "      <td>11:38:36</td>\n",
       "      <td>hawaiian</td>\n",
       "      <td>M</td>\n",
       "      <td>13.25</td>\n",
       "      <td>The Hawaiian Pizza</td>\n",
       "      <td>Classic</td>\n",
       "      <td>Sliced Ham, Pineapple, Mozzarella Cheese</td>\n",
       "    </tr>\n",
       "    <tr>\n",
       "      <th>1</th>\n",
       "      <td>2</td>\n",
       "      <td>2</td>\n",
       "      <td>classic_dlx_m</td>\n",
       "      <td>1</td>\n",
       "      <td>2015-01-01</td>\n",
       "      <td>11:57:40</td>\n",
       "      <td>classic_dlx</td>\n",
       "      <td>M</td>\n",
       "      <td>16.00</td>\n",
       "      <td>The Classic Deluxe Pizza</td>\n",
       "      <td>Classic</td>\n",
       "      <td>Pepperoni, Mushrooms, Red Onions, Red Peppers,...</td>\n",
       "    </tr>\n",
       "    <tr>\n",
       "      <th>2</th>\n",
       "      <td>3</td>\n",
       "      <td>2</td>\n",
       "      <td>five_cheese_l</td>\n",
       "      <td>1</td>\n",
       "      <td>2015-01-01</td>\n",
       "      <td>11:57:40</td>\n",
       "      <td>five_cheese</td>\n",
       "      <td>L</td>\n",
       "      <td>18.50</td>\n",
       "      <td>The Five Cheese Pizza</td>\n",
       "      <td>Veggie</td>\n",
       "      <td>Mozzarella Cheese, Provolone Cheese, Smoked Go...</td>\n",
       "    </tr>\n",
       "    <tr>\n",
       "      <th>3</th>\n",
       "      <td>4</td>\n",
       "      <td>2</td>\n",
       "      <td>ital_supr_l</td>\n",
       "      <td>1</td>\n",
       "      <td>2015-01-01</td>\n",
       "      <td>11:57:40</td>\n",
       "      <td>ital_supr</td>\n",
       "      <td>L</td>\n",
       "      <td>20.75</td>\n",
       "      <td>The Italian Supreme Pizza</td>\n",
       "      <td>Supreme</td>\n",
       "      <td>Calabrese Salami, Capocollo, Tomatoes, Red Oni...</td>\n",
       "    </tr>\n",
       "    <tr>\n",
       "      <th>4</th>\n",
       "      <td>5</td>\n",
       "      <td>2</td>\n",
       "      <td>mexicana_m</td>\n",
       "      <td>1</td>\n",
       "      <td>2015-01-01</td>\n",
       "      <td>11:57:40</td>\n",
       "      <td>mexicana</td>\n",
       "      <td>M</td>\n",
       "      <td>16.00</td>\n",
       "      <td>The Mexicana Pizza</td>\n",
       "      <td>Veggie</td>\n",
       "      <td>Tomatoes, Red Peppers, Jalapeno Peppers, Red O...</td>\n",
       "    </tr>\n",
       "  </tbody>\n",
       "</table>\n",
       "</div>"
      ],
      "text/plain": [
       "   order_details_id  order_id       pizza_id  quantity        date      time  \\\n",
       "0                 1         1     hawaiian_m         1  2015-01-01  11:38:36   \n",
       "1                 2         2  classic_dlx_m         1  2015-01-01  11:57:40   \n",
       "2                 3         2  five_cheese_l         1  2015-01-01  11:57:40   \n",
       "3                 4         2    ital_supr_l         1  2015-01-01  11:57:40   \n",
       "4                 5         2     mexicana_m         1  2015-01-01  11:57:40   \n",
       "\n",
       "  pizza_type_id size  price                       name category  \\\n",
       "0      hawaiian    M  13.25         The Hawaiian Pizza  Classic   \n",
       "1   classic_dlx    M  16.00   The Classic Deluxe Pizza  Classic   \n",
       "2   five_cheese    L  18.50      The Five Cheese Pizza   Veggie   \n",
       "3     ital_supr    L  20.75  The Italian Supreme Pizza  Supreme   \n",
       "4      mexicana    M  16.00         The Mexicana Pizza   Veggie   \n",
       "\n",
       "                                         ingredients  \n",
       "0           Sliced Ham, Pineapple, Mozzarella Cheese  \n",
       "1  Pepperoni, Mushrooms, Red Onions, Red Peppers,...  \n",
       "2  Mozzarella Cheese, Provolone Cheese, Smoked Go...  \n",
       "3  Calabrese Salami, Capocollo, Tomatoes, Red Oni...  \n",
       "4  Tomatoes, Red Peppers, Jalapeno Peppers, Red O...  "
      ]
     },
     "execution_count": 6,
     "metadata": {},
     "output_type": "execute_result"
    }
   ],
   "source": [
    "df.head()"
   ]
  },
  {
   "cell_type": "code",
   "execution_count": 7,
   "id": "26c51e3a-7455-4405-b3be-5d88458a6b08",
   "metadata": {},
   "outputs": [
    {
     "name": "stdout",
     "output_type": "stream",
     "text": [
      "<class 'pandas.core.frame.DataFrame'>\n",
      "RangeIndex: 48620 entries, 0 to 48619\n",
      "Data columns (total 12 columns):\n",
      " #   Column            Non-Null Count  Dtype  \n",
      "---  ------            --------------  -----  \n",
      " 0   order_details_id  48620 non-null  int64  \n",
      " 1   order_id          48620 non-null  int64  \n",
      " 2   pizza_id          48620 non-null  object \n",
      " 3   quantity          48620 non-null  int64  \n",
      " 4   date              48620 non-null  object \n",
      " 5   time              48620 non-null  object \n",
      " 6   pizza_type_id     48620 non-null  object \n",
      " 7   size              48620 non-null  object \n",
      " 8   price             48620 non-null  float64\n",
      " 9   name              48620 non-null  object \n",
      " 10  category          48620 non-null  object \n",
      " 11  ingredients       48620 non-null  object \n",
      "dtypes: float64(1), int64(3), object(8)\n",
      "memory usage: 4.5+ MB\n"
     ]
    }
   ],
   "source": [
    "df.info()"
   ]
  },
  {
   "cell_type": "markdown",
   "id": "8bcfc6e5-ec4b-42f0-8d9e-c6fcef649ac0",
   "metadata": {},
   "source": [
    "### 1.\tWhat is the total revenue/sales?"
   ]
  },
  {
   "cell_type": "code",
   "execution_count": 11,
   "id": "2cca41ac-a4a9-4447-a5dd-9905c169f0b8",
   "metadata": {},
   "outputs": [
    {
     "data": {
      "text/plain": [
       "817860.05"
      ]
     },
     "execution_count": 11,
     "metadata": {},
     "output_type": "execute_result"
    }
   ],
   "source": [
    "#total revenue/sales\n",
    "df['total_price'] = df['quantity'] * df['price']\n",
    "total_sales = df['total_price'].sum()\n",
    "total_sales"
   ]
  },
  {
   "cell_type": "markdown",
   "id": "2687ad84-c6dd-400c-9a7d-23223c366883",
   "metadata": {},
   "source": [
    "### 2.\tFind the total quantity sold."
   ]
  },
  {
   "cell_type": "code",
   "execution_count": 14,
   "id": "40188c65-28bc-4896-a1e8-54dbacc067ff",
   "metadata": {},
   "outputs": [
    {
     "data": {
      "text/plain": [
       "49574"
      ]
     },
     "execution_count": 14,
     "metadata": {},
     "output_type": "execute_result"
    }
   ],
   "source": [
    "#total quantity sold\n",
    "total_quantity = df['quantity'].sum()\n",
    "total_quantity "
   ]
  },
  {
   "cell_type": "markdown",
   "id": "a372d19a-e90e-4477-b99f-ebc77be68c51",
   "metadata": {},
   "source": [
    "### 3.\tFind the total orders."
   ]
  },
  {
   "cell_type": "code",
   "execution_count": 18,
   "id": "ed8bf225-18bc-4946-abfd-d0978fe8ee13",
   "metadata": {},
   "outputs": [
    {
     "data": {
      "text/plain": [
       "21350"
      ]
     },
     "execution_count": 18,
     "metadata": {},
     "output_type": "execute_result"
    }
   ],
   "source": [
    "#total orders\n",
    "df['order_id'].nunique()"
   ]
  },
  {
   "cell_type": "markdown",
   "id": "69e0c12f-38a4-4578-b3fe-961ab3e58552",
   "metadata": {},
   "source": [
    "### 4.\tHow many pizza types do they sell?"
   ]
  },
  {
   "cell_type": "code",
   "execution_count": 17,
   "id": "7959977f-a978-4585-9666-4406320cce4f",
   "metadata": {},
   "outputs": [
    {
     "data": {
      "text/plain": [
       "32"
      ]
     },
     "execution_count": 17,
     "metadata": {},
     "output_type": "execute_result"
    }
   ],
   "source": [
    "#Number of Pizza types\n",
    "df['pizza_type_id'].nunique()"
   ]
  },
  {
   "cell_type": "markdown",
   "id": "2edb8991-a561-4596-adc8-6297deb90b58",
   "metadata": {},
   "source": [
    "### 5.\tFind the average price of the pizzas."
   ]
  },
  {
   "cell_type": "code",
   "execution_count": 20,
   "id": "a1656974-0bae-4a57-a29c-eef4684d9c48",
   "metadata": {},
   "outputs": [
    {
     "data": {
      "text/plain": [
       "16.494132044426163"
      ]
     },
     "execution_count": 20,
     "metadata": {},
     "output_type": "execute_result"
    }
   ],
   "source": [
    "#average price if the pizzas\n",
    "df['price'].mean()"
   ]
  },
  {
   "cell_type": "markdown",
   "id": "d99b9e38-cc3d-430e-8306-6d5df98faf5e",
   "metadata": {},
   "source": [
    "### 6.\tWhat are the peak hours of sales?"
   ]
  },
  {
   "cell_type": "code",
   "execution_count": 24,
   "id": "49ff27ad-e579-40c7-85fc-cb31c3c813e2",
   "metadata": {},
   "outputs": [
    {
     "data": {
      "text/plain": [
       "time                 hour\n",
       "2025-05-11 12:32:00  12      460.20\n",
       "2025-05-11 12:25:12  12      444.20\n",
       "2025-05-11 12:53:29  12      419.75\n",
       "2025-05-11 13:31:27  13      417.15\n",
       "2025-05-11 12:52:36  12      400.75\n",
       "                              ...  \n",
       "2025-05-11 11:52:10  11        9.75\n",
       "2025-05-11 13:18:56  13        9.75\n",
       "2025-05-11 18:45:34  18        9.75\n",
       "2025-05-11 19:00:46  19        9.75\n",
       "2025-05-11 12:31:26  12        9.75\n",
       "Name: total_price, Length: 16382, dtype: float64"
      ]
     },
     "execution_count": 24,
     "metadata": {},
     "output_type": "execute_result"
    }
   ],
   "source": [
    "#peak hours\n",
    "df['time'] = pd.to_datetime(df['time'])\n",
    "df['hour'] = df['time'].dt.hour\n",
    "peak_hours = df.groupby(['time', 'hour'])['total_price'].sum().sort_values(ascending=False)\n",
    "peak_hours"
   ]
  },
  {
   "cell_type": "markdown",
   "id": "755a6d42-ad4b-46d3-86f8-598a844ebf29",
   "metadata": {},
   "source": [
    "### 7.\tFind the total sales made on each day of the week. Which day of the week is when sales are made the most?"
   ]
  },
  {
   "cell_type": "code",
   "execution_count": 26,
   "id": "082376d2-a5a9-4c97-8d06-86d4460a7531",
   "metadata": {},
   "outputs": [
    {
     "data": {
      "text/plain": [
       "day_of_week\n",
       "Friday       136073.90\n",
       "Thursday     123528.50\n",
       "Saturday     123182.40\n",
       "Wednesday    114408.40\n",
       "Tuesday      114133.80\n",
       "Monday       107329.55\n",
       "Sunday        99203.50\n",
       "Name: total_price, dtype: float64"
      ]
     },
     "execution_count": 26,
     "metadata": {},
     "output_type": "execute_result"
    }
   ],
   "source": [
    "# days of the week for most sales\n",
    "df['date'] = pd.to_datetime(df['date'])\n",
    "df['day_of_week'] = df['date'].dt.day_name()\n",
    "sales_by_day = df.groupby('day_of_week')['total_price'].sum().sort_values(ascending=False)\n",
    "sales_by_day"
   ]
  },
  {
   "cell_type": "markdown",
   "id": "b62e0a55-b8c6-4d6a-bb4c-881a7e36d01e",
   "metadata": {},
   "source": [
    "### 8.\tFind the top 5 bestselling pizzas."
   ]
  },
  {
   "cell_type": "code",
   "execution_count": 29,
   "id": "92acf314-166f-4877-87bf-13bd4ca5edc0",
   "metadata": {},
   "outputs": [
    {
     "data": {
      "text/plain": [
       "pizza_type_id\n",
       "classic_dlx    2453\n",
       "bbq_ckn        2432\n",
       "hawaiian       2422\n",
       "pepperoni      2418\n",
       "thai_ckn       2371\n",
       "Name: quantity, dtype: int64"
      ]
     },
     "execution_count": 29,
     "metadata": {},
     "output_type": "execute_result"
    }
   ],
   "source": [
    "top_pizzas = df.groupby('pizza_type_id')['quantity'].sum().sort_values(ascending=False).head(5)\n",
    "top_pizzas"
   ]
  },
  {
   "cell_type": "code",
   "execution_count": 56,
   "id": "bbe5712c-5b2c-493f-8eb3-a3d4774e508a",
   "metadata": {},
   "outputs": [
    {
     "data": {
      "text/html": [
       "<div>\n",
       "<style scoped>\n",
       "    .dataframe tbody tr th:only-of-type {\n",
       "        vertical-align: middle;\n",
       "    }\n",
       "\n",
       "    .dataframe tbody tr th {\n",
       "        vertical-align: top;\n",
       "    }\n",
       "\n",
       "    .dataframe thead th {\n",
       "        text-align: right;\n",
       "    }\n",
       "</style>\n",
       "<table border=\"1\" class=\"dataframe\">\n",
       "  <thead>\n",
       "    <tr style=\"text-align: right;\">\n",
       "      <th></th>\n",
       "      <th>month_num</th>\n",
       "      <th>month</th>\n",
       "      <th>total_price</th>\n",
       "    </tr>\n",
       "  </thead>\n",
       "  <tbody>\n",
       "    <tr>\n",
       "      <th>0</th>\n",
       "      <td>1</td>\n",
       "      <td>January</td>\n",
       "      <td>69793.30</td>\n",
       "    </tr>\n",
       "    <tr>\n",
       "      <th>1</th>\n",
       "      <td>2</td>\n",
       "      <td>February</td>\n",
       "      <td>65159.60</td>\n",
       "    </tr>\n",
       "    <tr>\n",
       "      <th>2</th>\n",
       "      <td>3</td>\n",
       "      <td>March</td>\n",
       "      <td>70397.10</td>\n",
       "    </tr>\n",
       "    <tr>\n",
       "      <th>3</th>\n",
       "      <td>4</td>\n",
       "      <td>April</td>\n",
       "      <td>68736.80</td>\n",
       "    </tr>\n",
       "    <tr>\n",
       "      <th>4</th>\n",
       "      <td>5</td>\n",
       "      <td>May</td>\n",
       "      <td>71402.75</td>\n",
       "    </tr>\n",
       "    <tr>\n",
       "      <th>5</th>\n",
       "      <td>6</td>\n",
       "      <td>June</td>\n",
       "      <td>68230.20</td>\n",
       "    </tr>\n",
       "    <tr>\n",
       "      <th>6</th>\n",
       "      <td>7</td>\n",
       "      <td>July</td>\n",
       "      <td>72557.90</td>\n",
       "    </tr>\n",
       "    <tr>\n",
       "      <th>7</th>\n",
       "      <td>8</td>\n",
       "      <td>August</td>\n",
       "      <td>68278.25</td>\n",
       "    </tr>\n",
       "    <tr>\n",
       "      <th>8</th>\n",
       "      <td>9</td>\n",
       "      <td>September</td>\n",
       "      <td>64180.05</td>\n",
       "    </tr>\n",
       "    <tr>\n",
       "      <th>9</th>\n",
       "      <td>10</td>\n",
       "      <td>October</td>\n",
       "      <td>64027.60</td>\n",
       "    </tr>\n",
       "    <tr>\n",
       "      <th>10</th>\n",
       "      <td>11</td>\n",
       "      <td>November</td>\n",
       "      <td>70395.35</td>\n",
       "    </tr>\n",
       "    <tr>\n",
       "      <th>11</th>\n",
       "      <td>12</td>\n",
       "      <td>December</td>\n",
       "      <td>64701.15</td>\n",
       "    </tr>\n",
       "  </tbody>\n",
       "</table>\n",
       "</div>"
      ],
      "text/plain": [
       "    month_num      month  total_price\n",
       "0           1    January     69793.30\n",
       "1           2   February     65159.60\n",
       "2           3      March     70397.10\n",
       "3           4      April     68736.80\n",
       "4           5        May     71402.75\n",
       "5           6       June     68230.20\n",
       "6           7       July     72557.90\n",
       "7           8     August     68278.25\n",
       "8           9  September     64180.05\n",
       "9          10    October     64027.60\n",
       "10         11   November     70395.35\n",
       "11         12   December     64701.15"
      ]
     },
     "execution_count": 56,
     "metadata": {},
     "output_type": "execute_result"
    }
   ],
   "source": [
    "df['month'] = df['date'].dt.month_name()\n",
    "df['month_num'] = df['date'].dt.month\n",
    "sales_by_month = df.groupby(['month_num', 'month'])['total_price'].sum().reset_index()\n",
    "sales_by_month"
   ]
  },
  {
   "cell_type": "markdown",
   "id": "0b6c6f5f-50f9-4619-b8d1-eb94f14bf6fd",
   "metadata": {},
   "source": [
    "### 9.\tFind the sales made in each month. Any trend noticeable?"
   ]
  },
  {
   "cell_type": "code",
   "execution_count": 64,
   "id": "3a3c9f44-d2cd-4d5b-937b-672761994ea7",
   "metadata": {},
   "outputs": [
    {
     "data": {
      "image/png": "[encoded data removed]",
      "text/plain": [
       "<Figure size 640x480 with 1 Axes>"
      ]
     },
     "metadata": {},
     "output_type": "display_data"
    }
   ],
   "source": [
    "# line plot trend\n",
    "plt.plot(sales_by_month['month'], sales_by_month['total_price'])\n",
    "plt.xticks(rotation = 45)\n",
    "plt.title(\"Total Sales Per Month\")\n",
    "plt.xlabel(\"Month\")\n",
    "plt.ylabel(\"Sales\")\n",
    "plt.show()"
   ]
  },
  {
   "cell_type": "markdown",
   "id": "5ebb5b56-338d-4b6a-88a1-49341d8f95e9",
   "metadata": {},
   "source": [
    "### 10.\tAre there pizza types that are not doing well on the menu?"
   ]
  },
  {
   "cell_type": "code",
   "execution_count": 63,
   "id": "e598f9fa-fb96-4158-aa16-cff55dbd25b1",
   "metadata": {},
   "outputs": [
    {
     "data": {
      "text/plain": [
       "pizza_type_id\n",
       "brie_carre      490\n",
       "mediterraneo    934\n",
       "calabrese       937\n",
       "spinach_supr    950\n",
       "soppressata     961\n",
       "Name: quantity, dtype: int64"
      ]
     },
     "execution_count": 63,
     "metadata": {},
     "output_type": "execute_result"
    }
   ],
   "source": [
    "low_sellers = df.groupby('pizza_type_id')['quantity'].sum().sort_values().head(5)\n",
    "low_sellers"
   ]
  },
  {
   "cell_type": "code",
   "execution_count": null,
   "id": "23d29ddd-a58c-4d16-890f-3a65166b6f3a",
   "metadata": {},
   "outputs": [],
   "source": []
  }
 ],
 "metadata": {
  "kernelspec": {
   "display_name": "Python 3 (ipykernel)",
   "language": "python",
   "name": "python3"
  },
  "language_info": {
   "codemirror_mode": {
    "name": "ipython",
    "version": 3
   },
   "file_extension": ".py",
   "mimetype": "text/x-python",
   "name": "python",
   "nbconvert_exporter": "python",
   "pygments_lexer": "ipython3",
   "version": "3.12.7"
  }
 },
 "nbformat": 4,
 "nbformat_minor": 5
}
